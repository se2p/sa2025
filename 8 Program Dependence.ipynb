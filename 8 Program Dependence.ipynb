{
 "cells": [
  {
   "cell_type": "markdown",
   "id": "e070ceec",
   "metadata": {
    "slideshow": {
     "slide_type": "slide"
    }
   },
   "source": [
    "# Program Dependence and Slicing"
   ]
  },
  {
   "cell_type": "markdown",
   "id": "41b7944d",
   "metadata": {
    "slideshow": {
     "slide_type": "skip"
    }
   },
   "source": [
    "We have so far explored control dependencies and data dependencies independently. These two concepts are related as they both represent cases of _program_ dependencies. In this chapter, we will define the program dependence graph, and use this to implement _slicing_."
   ]
  },
  {
   "cell_type": "markdown",
   "id": "2e388af0",
   "metadata": {
    "slideshow": {
     "slide_type": "slide"
    }
   },
   "source": [
    "## Control Dependencies"
   ]
  },
  {
   "cell_type": "markdown",
   "id": "de738d47",
   "metadata": {
    "slideshow": {
     "slide_type": "skip"
    }
   },
   "source": [
    "First we need to include all the CFG-related code."
   ]
  },
  {
   "cell_type": "code",
   "execution_count": null,
   "id": "f7fca29c",
   "metadata": {
    "slideshow": {
     "slide_type": "fragment"
    }
   },
   "outputs": [],
   "source": [
    "import javalang"
   ]
  },
  {
   "cell_type": "code",
   "execution_count": null,
   "id": "fec08d09",
   "metadata": {
    "slideshow": {
     "slide_type": "fragment"
    }
   },
   "outputs": [],
   "source": [
    "class CFGNode:\n",
    "    def __init__(self, graph, method_name, ast_node):\n",
    "        self.graph = graph\n",
    "        self.method_name = method_name\n",
    "        self.ast_node = ast_node\n",
    "        \n",
    "    def __str__(self):\n",
    "        if type(self.ast_node) == str:\n",
    "            return self.ast_node\n",
    "        else:\n",
    "            return str(self.ast_node.position.line - 1)"
   ]
  },
  {
   "cell_type": "code",
   "execution_count": null,
   "id": "23585b1b",
   "metadata": {
    "slideshow": {
     "slide_type": "fragment"
    }
   },
   "outputs": [],
   "source": [
    "class StartNode:\n",
    "    \n",
    "    def __init__(self, graph, method_name, ast_node):\n",
    "        self.graph = graph\n",
    "        self.method_name = method_name\n",
    "        self.ast_node = ast_node\n",
    "    \n",
    "    def __str__(self):\n",
    "        return \"Start\""
   ]
  },
  {
   "cell_type": "code",
   "execution_count": null,
   "id": "b420b7d9",
   "metadata": {
    "slideshow": {
     "slide_type": "slide"
    }
   },
   "outputs": [],
   "source": [
    "import networkx as nx"
   ]
  },
  {
   "cell_type": "code",
   "execution_count": null,
   "id": "45290e3c",
   "metadata": {
    "slideshow": {
     "slide_type": "fragment"
    }
   },
   "outputs": [],
   "source": [
    "class ProgramGraph:\n",
    "    def __init__(self, graph, start, end):\n",
    "        self.graph = graph\n",
    "        self.start = start\n",
    "        self.end   = end\n",
    "        \n",
    "    def nodes(self):\n",
    "        return self.graph.nodes()\n",
    "    \n",
    "    def edges(self):\n",
    "        return self.graph.edges()\n",
    "    \n",
    "    def successors(self, node):\n",
    "        return self.graph.successors(node)\n",
    "    \n",
    "    def predecessors(self, node):\n",
    "        return self.graph.predecessors(node)\n",
    "    \n",
    "    def reverse(self):\n",
    "        reverse_cfg = self.graph.reverse()\n",
    "        return ProgramGraph(reverse_cfg, self.end, self.start)    \n",
    "    \n",
    "    def node_for_line(self, line_no):\n",
    "        for node in self.nodes():\n",
    "            if str(node) == str(line_no):\n",
    "                return node\n",
    "        return None\n",
    "    \n",
    "    def plot(self):\n",
    "        pos = nx.nx_agraph.graphviz_layout(self.graph, prog=\"dot\")\n",
    "        nx.draw_networkx_nodes(self.graph, pos=pos, node_size=800, node_color='#FFFFFF', edgecolors='#000000')\n",
    "        nx.draw_networkx_edges(self.graph, pos=pos, connectionstyle=\"arc\", arrowsize=20)\n",
    "        nx.draw_networkx_labels(self.graph, pos=pos)\n",
    "        nx.draw_networkx_edge_labels(self.graph, pos=pos, edge_labels=nx.get_edge_attributes(self.graph,'label'))"
   ]
  },
  {
   "cell_type": "code",
   "execution_count": null,
   "id": "c55e66c2",
   "metadata": {
    "slideshow": {
     "slide_type": "slide"
    }
   },
   "outputs": [],
   "source": [
    "from functools import singledispatchmethod"
   ]
  },
  {
   "cell_type": "code",
   "execution_count": null,
   "id": "a4dfcee0",
   "metadata": {
    "slideshow": {
     "slide_type": "fragment"
    }
   },
   "outputs": [],
   "source": [
    "class CFGBuilder:\n",
    "    def __init__(self, method_declaration):\n",
    "        # create graph\n",
    "        self.graph = nx.DiGraph()\n",
    "        self.method_name = method_declaration.name\n",
    "        \n",
    "        # create entry/end node\n",
    "        self.start = StartNode(self.graph, self.method_name, method_declaration)\n",
    "        self.end   = CFGNode(self.graph, self.method_name, \"End\")\n",
    "        self.graph.add_node(self.start)\n",
    "        self.graph.add_node(self.end)\n",
    "        \n",
    "        # set entry as current target\n",
    "        self.frontier = [ self.start ]\n",
    "        \n",
    "        for node in method_declaration.body:\n",
    "            self.add_node(node)\n",
    "            \n",
    "        # Add edges from last nodes to end node\n",
    "        for parent in self.frontier:\n",
    "            self.graph.add_edge(parent, self.end)\n",
    "\n",
    "    def create_graph(self):\n",
    "        return ProgramGraph(self.graph, self.start, self.end)\n",
    "    \n",
    "    @singledispatchmethod\n",
    "    def add_node(self, node):\n",
    "        pass\n",
    "    \n",
    "    @add_node.register        \n",
    "    def add_block_node(self, block_node: javalang.tree.BlockStatement):\n",
    "        for node in block_node.statements:\n",
    "            self.add_node(node)            \n",
    "    \n",
    "    @add_node.register\n",
    "    def add_statement_node(self, node: javalang.tree.StatementExpression):\n",
    "        cfg_node = CFGNode(self.graph, self.method_name, node)\n",
    "        self.graph.add_node(cfg_node)\n",
    "        for parent in self.frontier:\n",
    "            self.graph.add_edge(parent, cfg_node)\n",
    "        self.frontier = [ cfg_node ]\n",
    "        \n",
    "    @add_node.register\n",
    "    def add_declaration_node(self, node: javalang.tree.LocalVariableDeclaration):\n",
    "        self.add_statement_node(node)\n",
    "        \n",
    "    @add_node.register\n",
    "    def add_if_node(self, if_node: javalang.tree.IfStatement):\n",
    "        cfg_node = CFGNode(self.graph, self.method_name, if_node)\n",
    "        self.graph.add_node(cfg_node)\n",
    "\n",
    "        for parent in self.frontier:\n",
    "            self.graph.add_edge(parent, cfg_node)\n",
    "        self.frontier = [cfg_node]\n",
    "        self.add_node(if_node.then_statement)\n",
    "        \n",
    "        if if_node.else_statement:\n",
    "            current_frontier = self.frontier[:]\n",
    "            self.frontier = [cfg_node]\n",
    "            self.add_node(if_node.else_statement)\n",
    "            self.frontier.extend(current_frontier)\n",
    "        else:\n",
    "            self.frontier.append(cfg_node)\n",
    "            \n",
    "    @add_node.register\n",
    "    def add_while_node(self, while_node: javalang.tree.WhileStatement):\n",
    "        cfg_node = CFGNode(self.graph, self.method_name, while_node)\n",
    "        self.graph.add_node(cfg_node)\n",
    "        for parent in self.frontier:\n",
    "            self.graph.add_edge(parent, cfg_node)\n",
    "        self.frontier = [cfg_node]\n",
    "        self.add_node(while_node.body)\n",
    "        for parent in self.frontier:\n",
    "            self.graph.add_edge(parent, cfg_node)\n",
    "        self.frontier = [cfg_node]\n",
    "\n",
    "    @add_node.register\n",
    "    def add_return_node(self, return_node: javalang.tree.ReturnStatement):\n",
    "        cfg_node = CFGNode(self.graph, self.method_name, return_node)\n",
    "        self.graph.add_node(cfg_node)\n",
    "        for parent in self.frontier:\n",
    "            self.graph.add_edge(parent, cfg_node)\n",
    "        self.graph.add_edge(cfg_node, self.end)\n",
    "        self.frontier = [] "
   ]
  },
  {
   "cell_type": "code",
   "execution_count": null,
   "id": "cc72680e",
   "metadata": {
    "slideshow": {
     "slide_type": "slide"
    }
   },
   "outputs": [],
   "source": [
    "def parse_method(code):\n",
    "    class_code = \"class Dummy {\\n\" + code + \"\\n}\";\n",
    "    tokens = javalang.tokenizer.tokenize(class_code)\n",
    "    parser = javalang.parser.Parser(tokens)\n",
    "    ast = parser.parse()\n",
    "    _, node = list(ast.filter(javalang.tree.MethodDeclaration))[0]\n",
    "    return node"
   ]
  },
  {
   "cell_type": "markdown",
   "id": "1071bad7",
   "metadata": {
    "slideshow": {
     "slide_type": "skip"
    }
   },
   "source": [
    "To recall, here's an example method for which we can view the control flow graph."
   ]
  },
  {
   "cell_type": "code",
   "execution_count": null,
   "id": "762277ae",
   "metadata": {
    "slideshow": {
     "slide_type": "slide"
    }
   },
   "outputs": [],
   "source": [
    "code = \"\"\"\n",
    "  public int foo(int x) {\n",
    "    int y = 0;\n",
    "\n",
    "    while(x >= 0) {\n",
    "        if(x % 2 == 0)\n",
    "            y += x;\n",
    "        x--;\n",
    "    }\n",
    "\n",
    "    return y;\n",
    "  }\n",
    "\"\"\""
   ]
  },
  {
   "cell_type": "code",
   "execution_count": null,
   "id": "e058772e",
   "metadata": {
    "scrolled": true,
    "slideshow": {
     "slide_type": "fragment"
    }
   },
   "outputs": [],
   "source": [
    "tree = parse_method(code)\n",
    "cfg = CFGBuilder(tree).create_graph()\n",
    "cfg.plot()"
   ]
  },
  {
   "cell_type": "markdown",
   "id": "7f24309e",
   "metadata": {
    "slideshow": {
     "slide_type": "skip"
    }
   },
   "source": [
    "Based on the CFG we defined the notion of dominance, and the resulting dominator tree."
   ]
  },
  {
   "cell_type": "code",
   "execution_count": null,
   "id": "c3a73d3a",
   "metadata": {
    "slideshow": {
     "slide_type": "slide"
    }
   },
   "outputs": [],
   "source": [
    "class ProgramGraph(ProgramGraph):\n",
    "    def dominators(self):\n",
    "        entry = self.start\n",
    "        remaining_nodes = [node for node in self.nodes() if node != entry]\n",
    "\n",
    "        # D(entry) <- {entry}\n",
    "        dominators = {}\n",
    "        dominators[entry] = [entry]\n",
    "\n",
    "        # D(node \\ {entry}) <- nodes\n",
    "        for node in remaining_nodes:\n",
    "            dominators[node] = set(self.nodes())\n",
    "\n",
    "        changed = True\n",
    "        while changed:\n",
    "            changed = False\n",
    "\n",
    "            for node in remaining_nodes:\n",
    "                current_dominators = dominators[node]\n",
    "\n",
    "                # new_dominators = node \\cup intersection(dominators for all predecessors)\n",
    "                new_dominators = set(self.nodes())\n",
    "\n",
    "                for p in self.predecessors(node):\n",
    "                    new_dominators = new_dominators.intersection(dominators[p])\n",
    "\n",
    "                new_dominators.add(node)\n",
    "\n",
    "                if new_dominators.symmetric_difference(current_dominators):\n",
    "                    dominators[node] = new_dominators\n",
    "                    changed = True\n",
    "\n",
    "        return dominators"
   ]
  },
  {
   "cell_type": "code",
   "execution_count": null,
   "id": "da8c1933",
   "metadata": {
    "slideshow": {
     "slide_type": "slide"
    }
   },
   "outputs": [],
   "source": [
    "class ProgramGraph(ProgramGraph):\n",
    "    def strict_dominators(self):\n",
    "        dominators = self.dominators()\n",
    "        for node, dom in dominators.items():\n",
    "            dom.remove(node)\n",
    "        return dominators"
   ]
  },
  {
   "cell_type": "code",
   "execution_count": null,
   "id": "32d33c8a",
   "metadata": {
    "slideshow": {
     "slide_type": "fragment"
    }
   },
   "outputs": [],
   "source": [
    "def dominator_tree(cfg):\n",
    "    dt = nx.DiGraph()\n",
    "    dt.add_nodes_from(cfg.nodes())\n",
    "    dominator_map = cfg.strict_dominators()\n",
    "    queue = [ cfg.start ]\n",
    "    while queue:\n",
    "        current = queue.pop()\n",
    "        for node in cfg.nodes():            \n",
    "            dominators = dominator_map[node]\n",
    "            \n",
    "            if current in dominators:\n",
    "                dominators.remove(current)\n",
    "                if not dominators:\n",
    "                    dt.add_edge(current, node)\n",
    "                    queue.append(node)\n",
    "\n",
    "    return ProgramGraph(dt, cfg.start, cfg.end)"
   ]
  },
  {
   "cell_type": "code",
   "execution_count": null,
   "id": "a3d384b7",
   "metadata": {
    "slideshow": {
     "slide_type": "slide"
    }
   },
   "outputs": [],
   "source": [
    "tree = parse_method(code)\n",
    "cfg = CFGBuilder(tree).create_graph()\n",
    "cfg.plot()"
   ]
  },
  {
   "cell_type": "code",
   "execution_count": null,
   "id": "6ceca588",
   "metadata": {
    "scrolled": true,
    "slideshow": {
     "slide_type": "fragment"
    }
   },
   "outputs": [],
   "source": [
    "dominator_tree(cfg).plot()"
   ]
  },
  {
   "cell_type": "markdown",
   "id": "8b1b9472",
   "metadata": {
    "slideshow": {
     "slide_type": "skip"
    }
   },
   "source": [
    "The postdominators are determined simply by applying the same on the reversed CFG."
   ]
  },
  {
   "cell_type": "code",
   "execution_count": null,
   "id": "275687bf",
   "metadata": {
    "slideshow": {
     "slide_type": "slide"
    }
   },
   "outputs": [],
   "source": [
    "class ProgramGraph(ProgramGraph):\n",
    "    def reverse(self):\n",
    "        reverse_cfg = self.graph.reverse()\n",
    "        return ProgramGraph(reverse_cfg, self.end, self.start)"
   ]
  },
  {
   "cell_type": "code",
   "execution_count": null,
   "id": "3c5f8de5",
   "metadata": {
    "slideshow": {
     "slide_type": "fragment"
    }
   },
   "outputs": [],
   "source": [
    "class ProgramGraph(ProgramGraph):\n",
    "    def post_dominators(self):\n",
    "        rcfg = self.reverse()\n",
    "        return rcfg.dominators()"
   ]
  },
  {
   "cell_type": "code",
   "execution_count": null,
   "id": "f11f018c",
   "metadata": {
    "slideshow": {
     "slide_type": "fragment"
    }
   },
   "outputs": [],
   "source": [
    "def postdominator_tree(cfg):\n",
    "    rcfg = cfg.reverse()\n",
    "    return dominator_tree(rcfg)"
   ]
  },
  {
   "cell_type": "code",
   "execution_count": null,
   "id": "edad9419",
   "metadata": {
    "slideshow": {
     "slide_type": "fragment"
    }
   },
   "outputs": [],
   "source": [
    "tree = parse_method(code)\n",
    "cfg = CFGBuilder(tree).create_graph()"
   ]
  },
  {
   "cell_type": "code",
   "execution_count": null,
   "id": "c977bd50",
   "metadata": {
    "slideshow": {
     "slide_type": "fragment"
    }
   },
   "outputs": [],
   "source": [
    "postdominator_tree(cfg).plot()"
   ]
  },
  {
   "cell_type": "markdown",
   "id": "b727eada",
   "metadata": {
    "slideshow": {
     "slide_type": "skip"
    }
   },
   "source": [
    "The postdominator tree allows us to determine the control dependencies in a program."
   ]
  },
  {
   "cell_type": "code",
   "execution_count": null,
   "id": "cf126739",
   "metadata": {
    "slideshow": {
     "slide_type": "slide"
    }
   },
   "outputs": [],
   "source": [
    "class ProgramGraph(ProgramGraph):\n",
    "    def transitive_successors(self, node):\n",
    "        return nx.nodes(nx.dfs_tree(self.graph, node))\n",
    "    \n",
    "    def least_common_ancestor(self, node1, node2):\n",
    "        current = node1\n",
    "        successors = self.transitive_successors(current)\n",
    "\n",
    "        while not (node1 in successors) or not (node2 in successors):\n",
    "            current = list(self.graph.predecessors(current))[0]\n",
    "            successors = self.transitive_successors(current)\n",
    "        \n",
    "        return current  "
   ]
  },
  {
   "cell_type": "code",
   "execution_count": null,
   "id": "fdaa8e96",
   "metadata": {
    "slideshow": {
     "slide_type": "fragment"
    }
   },
   "outputs": [],
   "source": [
    "class ProgramGraph(ProgramGraph):\n",
    "    def is_reachable(self, source, target):\n",
    "        successors = self.transitive_successors(source)\n",
    "        return target in successors"
   ]
  },
  {
   "cell_type": "code",
   "execution_count": null,
   "id": "f5a48083",
   "metadata": {
    "slideshow": {
     "slide_type": "fragment"
    }
   },
   "outputs": [],
   "source": [
    "class ProgramGraph(ProgramGraph):\n",
    "    def in_degree(self, node):\n",
    "        return self.graph.in_degree(node)"
   ]
  },
  {
   "cell_type": "code",
   "execution_count": null,
   "id": "1d021200",
   "metadata": {
    "slideshow": {
     "slide_type": "slide"
    }
   },
   "outputs": [],
   "source": [
    "def control_dependence_graph(cfg):\n",
    "    pdt = postdominator_tree(cfg)\n",
    "    cdg = nx.DiGraph()\n",
    "    cdg.add_nodes_from(cfg.nodes())\n",
    "    \n",
    "    # 1. Find S, a set of edges (a,b) in the CFG such that\n",
    "    # b is not an ancestor of a in the post-dominator tree.\n",
    "    edges = set()\n",
    "    for a, b in cfg.edges():\n",
    "        if not pdt.is_reachable(b, a):\n",
    "            edges.add((a, b))\n",
    "\n",
    "    for a, b in edges:\n",
    "        # 2. For each edge (a,b) in S, find L, the least common ancestor\n",
    "        # of a and b in the post-dominator tree.\n",
    "        lca = pdt.least_common_ancestor(a, b)\n",
    "\n",
    "        # Traverse backwards in the post-dominator tree from b to L,\n",
    "        # marking each node visited; mark L only if L = a.\n",
    "        # Statements representing all marked nodes are control dependent on a.\n",
    "        current = b\n",
    "        while current != lca:\n",
    "            cdg.add_edge(a, current)\n",
    "            current = list(pdt.predecessors(current))[0]\n",
    "\n",
    "        if a == lca:\n",
    "            cdg.add_edge(a, lca)\n",
    "\n",
    "    # Any nodes not connected at this point are only dependent on entry\n",
    "    entry = cfg.start\n",
    "    for node in cdg.nodes():\n",
    "        if node != entry and (cdg.in_degree(node) == 0 or list(cdg.predecessors(node)) == [node]):\n",
    "            cdg.add_edge(entry, node)\n",
    "\n",
    "    return ProgramGraph(cdg, cfg.start, cfg.end)"
   ]
  },
  {
   "cell_type": "code",
   "execution_count": null,
   "id": "fd7f9721",
   "metadata": {
    "slideshow": {
     "slide_type": "slide"
    }
   },
   "outputs": [],
   "source": [
    "tree = parse_method(code)\n",
    "cfg = CFGBuilder(tree).create_graph()\n",
    "cfg.plot()"
   ]
  },
  {
   "cell_type": "code",
   "execution_count": null,
   "id": "c1d8933b",
   "metadata": {
    "slideshow": {
     "slide_type": "fragment"
    }
   },
   "outputs": [],
   "source": [
    "control_dependence_graph(cfg).plot()"
   ]
  },
  {
   "cell_type": "markdown",
   "id": "c0f1829a",
   "metadata": {
    "slideshow": {
     "slide_type": "slide"
    }
   },
   "source": [
    "## Control Dependencies via Dominance Frontier"
   ]
  },
  {
   "cell_type": "markdown",
   "id": "4cad22c7",
   "metadata": {
    "slideshow": {
     "slide_type": "skip"
    }
   },
   "source": [
    "Before we move on to data dependencies, we will discuss an alternative way to determine the control dependencies."
   ]
  },
  {
   "cell_type": "markdown",
   "id": "3af460a2",
   "metadata": {
    "slideshow": {
     "slide_type": "skip"
    }
   },
   "source": [
    "For a CFG and node x, the dominance frontier DF(x) is the set of all nodes y in the CFG such that x dominates an immediate predecessor of y but does not strictly dominate y. The dominance frontier for node $n$ consists of two parts:\n",
    "1. DFlocal: The successors of $n$ in the CFG that are not strictly dominated by $n$\n",
    "2. DFup: Nodes in the dominance frontier of $n$ that are not dominated by $n$'s immediate dominator\n",
    "\n",
    "The dominance frontier for node $n$ consists of DFlocal(n) and DFup(c) for each child c whose immediate dominator is $n$. We thus need to add a method to calculate the immediate dominators, which we previously defined in the lecture but did not implement."
   ]
  },
  {
   "cell_type": "code",
   "execution_count": null,
   "id": "7d9e191e",
   "metadata": {
    "slideshow": {
     "slide_type": "slide"
    }
   },
   "outputs": [],
   "source": [
    "class ProgramGraph(ProgramGraph):\n",
    "    def immediate_dominators(self):\n",
    "        dominators = self.strict_dominators()\n",
    "        idom = {} \n",
    "        for node in cfg.nodes():\n",
    "            idom[node] = set(dominators[node])\n",
    "            \n",
    "            for dom in list(idom[node]):\n",
    "                if set(dominators[dom]) & idom[node]:\n",
    "                    idom[node] -= set(dominators[dom])\n",
    "        return idom\n",
    "        "
   ]
  },
  {
   "cell_type": "code",
   "execution_count": null,
   "id": "d42ef298",
   "metadata": {},
   "outputs": [],
   "source": [
    "tree = parse_method(code)\n",
    "cfg = CFGBuilder(tree).create_graph()"
   ]
  },
  {
   "cell_type": "code",
   "execution_count": null,
   "id": "2e15d24d",
   "metadata": {
    "scrolled": true
   },
   "outputs": [],
   "source": [
    "dominator_tree(cfg).plot()"
   ]
  },
  {
   "cell_type": "code",
   "execution_count": null,
   "id": "3a9283be",
   "metadata": {},
   "outputs": [],
   "source": [
    "for key, value in cfg.immediate_dominators().items():\n",
    "    print(f\"{key}: {[str(v) for v in value]}\")"
   ]
  },
  {
   "cell_type": "markdown",
   "id": "01eef6b8",
   "metadata": {
    "slideshow": {
     "slide_type": "skip"
    }
   },
   "source": [
    "The dominance frontier can now be calculated with the following algorithm:"
   ]
  },
  {
   "cell_type": "code",
   "execution_count": null,
   "id": "47ec425c",
   "metadata": {
    "slideshow": {
     "slide_type": "slide"
    }
   },
   "outputs": [],
   "source": [
    "def dominance_frontier(node, cfg):\n",
    "\n",
    "    dominators = cfg.strict_dominators()\n",
    "    dt = dominator_tree(cfg)\n",
    "    idom = cfg.immediate_dominators()\n",
    "    \n",
    "    df = set()\n",
    "    for succ in cfg.successors(node):\n",
    "        if node not in idom[succ]:\n",
    "            df.add(succ)\n",
    "    \n",
    "    for succ in dt.successors(node):\n",
    "        dom_succ = dominance_frontier(succ, cfg)\n",
    "        for n in dom_succ:\n",
    "            if not node in dominators[n]:\n",
    "                df.add(n)\n",
    "    \n",
    "    return df"
   ]
  },
  {
   "cell_type": "markdown",
   "id": "c8d50bd2",
   "metadata": {
    "slideshow": {
     "slide_type": "skip"
    }
   },
   "source": [
    "For example, the dominance frontier of node 6 must be 5."
   ]
  },
  {
   "cell_type": "code",
   "execution_count": null,
   "id": "331a911a",
   "metadata": {
    "slideshow": {
     "slide_type": "slide"
    }
   },
   "outputs": [],
   "source": [
    "cfg.plot()"
   ]
  },
  {
   "cell_type": "code",
   "execution_count": null,
   "id": "f36beef8",
   "metadata": {
    "slideshow": {
     "slide_type": "fragment"
    }
   },
   "outputs": [],
   "source": [
    "dominator_tree(cfg).plot()"
   ]
  },
  {
   "cell_type": "code",
   "execution_count": null,
   "id": "4afc1631",
   "metadata": {
    "slideshow": {
     "slide_type": "fragment"
    }
   },
   "outputs": [],
   "source": [
    "node = cfg.node_for_line(6)\n",
    "for n in dominance_frontier(node, cfg):\n",
    "    print(str(n))"
   ]
  },
  {
   "cell_type": "markdown",
   "id": "6b85c7b1",
   "metadata": {
    "slideshow": {
     "slide_type": "skip"
    }
   },
   "source": [
    "For a given node of the CFG, the control dependencies are the dominance frontiers on the reverse control flow graph. We can therefore also calculate the CDG by inverting the CFG, and then for each node calculate its dominance frontier; then add an edge from each node on the frontier to the node."
   ]
  },
  {
   "cell_type": "code",
   "execution_count": null,
   "id": "0d9b0225",
   "metadata": {
    "slideshow": {
     "slide_type": "slide"
    }
   },
   "outputs": [],
   "source": [
    "def control_dependencies2(cfg):\n",
    "    rcfg = cfg.reverse()\n",
    "    \n",
    "    cdg = nx.DiGraph()\n",
    "    cdg.add_nodes_from(cfg.nodes())\n",
    "\n",
    "    for node in cfg.nodes():\n",
    "        frontier = dominance_frontier(node, rcfg)\n",
    "        for frontier_node in frontier:\n",
    "            cdg.add_edge(frontier_node, node)\n",
    "\n",
    "        # Nodes without parents are dependent only on entry\n",
    "        if node != cfg.start and (cdg.in_degree(node) == 0 or list(cdg.predecessors(node)) == [node]):\n",
    "            cdg.add_edge(cfg.start, node)\n",
    "            \n",
    "    return ProgramGraph(cdg, cfg.start, cfg.end)"
   ]
  },
  {
   "cell_type": "code",
   "execution_count": null,
   "id": "be1d3750",
   "metadata": {
    "scrolled": true,
    "slideshow": {
     "slide_type": "slide"
    }
   },
   "outputs": [],
   "source": [
    "control_dependencies2(cfg).plot()"
   ]
  },
  {
   "cell_type": "markdown",
   "id": "c858d86c",
   "metadata": {
    "slideshow": {
     "slide_type": "skip"
    }
   },
   "source": [
    "For reference, here is the CDG calculated with our previous algorithm."
   ]
  },
  {
   "cell_type": "code",
   "execution_count": null,
   "id": "7e9b2b37",
   "metadata": {
    "scrolled": true,
    "slideshow": {
     "slide_type": "fragment"
    }
   },
   "outputs": [],
   "source": [
    "control_dependence_graph(cfg).plot()"
   ]
  },
  {
   "cell_type": "markdown",
   "id": "84d09258",
   "metadata": {
    "slideshow": {
     "slide_type": "skip"
    }
   },
   "source": [
    "Let's also revisit our lecture example."
   ]
  },
  {
   "cell_type": "code",
   "execution_count": null,
   "id": "0dfb2fe6",
   "metadata": {
    "slideshow": {
     "slide_type": "slide"
    }
   },
   "outputs": [],
   "source": [
    "code = \"\"\"\n",
    "public boolean testMe(int x, int y) {\n",
    "    if (x <= y) {\n",
    "        if (x == y) {\n",
    "            System.out.println(\"Some output\");\n",
    "        }\n",
    "        if (x > 0) {\n",
    "            if (y == 17) {\n",
    "               return true;\n",
    "            }\n",
    "        }\n",
    "    }\n",
    "    return false;\n",
    "}\n",
    "\"\"\""
   ]
  },
  {
   "cell_type": "code",
   "execution_count": null,
   "id": "a0f688d4",
   "metadata": {
    "slideshow": {
     "slide_type": "fragment"
    }
   },
   "outputs": [],
   "source": [
    "tree = parse_method(code)\n",
    "cfg = CFGBuilder(tree).create_graph()"
   ]
  },
  {
   "cell_type": "code",
   "execution_count": null,
   "id": "92a98b90",
   "metadata": {
    "scrolled": true,
    "slideshow": {
     "slide_type": "slide"
    }
   },
   "outputs": [],
   "source": [
    "control_dependencies2(cfg).plot()"
   ]
  },
  {
   "cell_type": "code",
   "execution_count": null,
   "id": "40da0d76",
   "metadata": {
    "scrolled": true,
    "slideshow": {
     "slide_type": "fragment"
    }
   },
   "outputs": [],
   "source": [
    "control_dependence_graph(cfg).plot()"
   ]
  },
  {
   "cell_type": "markdown",
   "id": "103008d8",
   "metadata": {
    "slideshow": {
     "slide_type": "slide"
    }
   },
   "source": [
    "## Data Dependencies"
   ]
  },
  {
   "cell_type": "markdown",
   "id": "57021afd",
   "metadata": {
    "slideshow": {
     "slide_type": "skip"
    }
   },
   "source": [
    "The second class of dependencies we considered are related to how data is written and propagated within a program. We distinguished between definitions and uses."
   ]
  },
  {
   "cell_type": "code",
   "execution_count": null,
   "id": "cc340289",
   "metadata": {
    "slideshow": {
     "slide_type": "slide"
    }
   },
   "outputs": [],
   "source": [
    "from dataclasses import dataclass"
   ]
  },
  {
   "cell_type": "code",
   "execution_count": null,
   "id": "6011f425",
   "metadata": {
    "slideshow": {
     "slide_type": "fragment"
    }
   },
   "outputs": [],
   "source": [
    "@dataclass(frozen=True, eq=True)\n",
    "class Use:\n",
    "    name: str\n",
    "    node: CFGNode\n",
    "        \n",
    "    def __str__(self):\n",
    "        if isinstance(self.node.ast_node, str):\n",
    "            return f\"Use: {self.name} in {self.node.ast_node}\"\n",
    "        \n",
    "        return f\"Use: {self.name} in line {self.node.ast_node.position.line - 1}\""
   ]
  },
  {
   "cell_type": "code",
   "execution_count": null,
   "id": "21d3ac47",
   "metadata": {
    "slideshow": {
     "slide_type": "fragment"
    }
   },
   "outputs": [],
   "source": [
    "class CFGNode(CFGNode):\n",
    "    def uses(self):\n",
    "        uses = set()\n",
    "        if not self.ast_node or isinstance(self.ast_node, str):\n",
    "            return uses\n",
    "        \n",
    "        # Do not check children that contain other statements\n",
    "        root = self.ast_node\n",
    "        if isinstance(self.ast_node, javalang.tree.ForStatement):\n",
    "            root = self.ast_node.control\n",
    "        elif hasattr(self.ast_node, \"condition\"):\n",
    "            root = self.ast_node.condition\n",
    "        elif isinstance(self.ast_node, javalang.tree.StatementExpression):\n",
    "            # Assignment: lhs only if it is a +=, -=, etc\n",
    "            if isinstance(self.ast_node.expression, javalang.tree.Assignment):\n",
    "                if len(self.ast_node.expression.type) > 1:\n",
    "                    root = self.ast_node.expression\n",
    "                else:\n",
    "                    root = self.ast_node.expression.value\n",
    "            \n",
    "        for _, node in root.filter(javalang.tree.MemberReference):\n",
    "            uses.add(Use(node.member, self))\n",
    "        for _, node in root.filter(javalang.tree.MethodInvocation):\n",
    "            uses.add(Use(node.qualifier, self)) # Only works for non-static methods\n",
    "        return uses"
   ]
  },
  {
   "cell_type": "code",
   "execution_count": null,
   "id": "5b9b15c0",
   "metadata": {
    "slideshow": {
     "slide_type": "slide"
    }
   },
   "outputs": [],
   "source": [
    "@dataclass(frozen=True, eq=True)\n",
    "class Definition:\n",
    "    name: str\n",
    "    node: CFGNode\n",
    "        \n",
    "    def __str__(self):\n",
    "        return f\"Def: {self.name} in line {self.node.ast_node.position.line - 1}\""
   ]
  },
  {
   "cell_type": "code",
   "execution_count": null,
   "id": "d26f924b",
   "metadata": {
    "slideshow": {
     "slide_type": "fragment"
    }
   },
   "outputs": [],
   "source": [
    "class CFGNode(CFGNode):\n",
    "    def definitions(self):\n",
    "        definitions = set()\n",
    "        if not self.ast_node or isinstance(self.ast_node, str):\n",
    "            return definitions\n",
    "        \n",
    "        # Do not check children that contain other statements\n",
    "        root = self.ast_node\n",
    "        if isinstance(self.ast_node, javalang.tree.ForStatement):\n",
    "            root = self.ast_node.control\n",
    "        elif hasattr(self.ast_node, \"condition\"):\n",
    "            root = self.ast_node.condition\n",
    "                    \n",
    "        for _, node in root.filter(javalang.tree.LocalVariableDeclaration):\n",
    "            decl = node.declarators[0]\n",
    "            definitions.add(Definition(decl.name, self))\n",
    "        for _, node in root.filter(javalang.tree.Assignment):\n",
    "            memberref = node.expressionl\n",
    "            definitions.add(Definition(memberref.member, self))\n",
    "        for _, node in root.filter(javalang.tree.MemberReference):\n",
    "            if node.prefix_operators or node.postfix_operators:\n",
    "                definitions.add(Definition(node.member, self))\n",
    "        return definitions"
   ]
  },
  {
   "cell_type": "code",
   "execution_count": null,
   "id": "70bfb720",
   "metadata": {
    "slideshow": {
     "slide_type": "slide"
    }
   },
   "outputs": [],
   "source": [
    "class StartNode(StartNode):\n",
    "    def definitions(self):\n",
    "        definitions = set()\n",
    "        \n",
    "        for _, node in self.ast_node.filter(javalang.tree.FormalParameter):\n",
    "            definitions.add(Definition(node.name, self))\n",
    "        \n",
    "        return definitions\n",
    "    \n",
    "    def uses(self):\n",
    "        return set()"
   ]
  },
  {
   "cell_type": "markdown",
   "id": "c603a84d",
   "metadata": {
    "slideshow": {
     "slide_type": "skip"
    }
   },
   "source": [
    "To find our which definitions can reach which uses we need to apply dataflow analysis. "
   ]
  },
  {
   "cell_type": "code",
   "execution_count": null,
   "id": "5feb8403",
   "metadata": {
    "slideshow": {
     "slide_type": "slide"
    }
   },
   "outputs": [],
   "source": [
    "class Lattice(object):\n",
    "    def __init__(self, elements, join_func, meet_func):\n",
    "        self.elements = elements\n",
    "        self.join = join_func\n",
    "        self.meet = meet_func\n",
    "\n",
    "    def wrap(self, object):\n",
    "        return LatticeElement(self, object)\n",
    "\n",
    "    def element_by_index(self, index):\n",
    "        return LatticeElement(self, self.elements[index])\n",
    "\n",
    "    @property\n",
    "    def top(self):\n",
    "        top = self.wrap(self.elements[0])\n",
    "        for element in self.elements[1:]:\n",
    "            top |= self.wrap(element)\n",
    "        return top\n",
    "\n",
    "    @property\n",
    "    def bottom(self):\n",
    "        bottom = self.wrap(self.elements[0])\n",
    "        for element in self.elements[1:]:\n",
    "            bottom &= self.wrap(element)\n",
    "        return bottom\n",
    "    \n",
    "    def plot(self):\n",
    "        dot = Digraph()\n",
    "        \n",
    "        graph = dict()\n",
    "        for indexS, elementS in enumerate(self.elements):\n",
    "            graph[indexS] = []\n",
    "            for indexD, elementD in enumerate(self.elements):\n",
    "                if self.wrap(elementS) <= self.wrap(elementD):\n",
    "                    if not bool( sum([ int(self.element_by_index(x) <= self.wrap(elementD)) for x in graph[indexS]])) and not elementS == elementD:\n",
    "                        graph[indexS] += [indexD]\n",
    "        dot.node(str(self.top.unwrap))\n",
    "        dot.node(str(self.bottom.unwrap))\n",
    "        for s, ds in graph.items():\n",
    "            for d in ds:\n",
    "                dot.edge(str(self.element_by_index(s)), str(self.element_by_index(d)))\n",
    "\n",
    "        return dot\n",
    "\n",
    "    def __repr__(self):\n",
    "        \"\"\"Represents the lattice as an instance of Lattice.\"\"\"\n",
    "        return 'Lattice(%s,%s,%s)' % (self.elements,self.join,self.meet)"
   ]
  },
  {
   "cell_type": "code",
   "execution_count": null,
   "id": "08eacc1a",
   "metadata": {
    "slideshow": {
     "slide_type": "slide"
    }
   },
   "outputs": [],
   "source": [
    "class LatticeElement():\n",
    "    def __init__(self, lattice, element):\n",
    "        if element not in lattice.elements: raise ValueError('The given value is not a lattice element')\n",
    "        self.lattice = lattice\n",
    "        self.index = lattice.elements.index(element)\n",
    "\n",
    "    @property\n",
    "    def unwrap(self):\n",
    "        return self.lattice.elements[self.index]\n",
    "\n",
    "    def __and__(self, b):\n",
    "        # a.__and__(b) <=> a & b <=> meet(a,b)\n",
    "        return LatticeElement(self.lattice, self.lattice.meet(self.unwrap, b.unwrap))\n",
    "\n",
    "    def __or__(self, b):\n",
    "        # a.__or__(b) <=> a | b <=> join(a,b)\n",
    "        return LatticeElement(self.lattice, self.lattice.join(self.unwrap, b.unwrap))\n",
    "\n",
    "    def __eq__(self, b):\n",
    "        # a.__eq__(b) <=> a = b <=> join(a,b)\n",
    "        return self.unwrap == b.unwrap\n",
    "\n",
    "    def __le__(self, b):\n",
    "        # a <= b if and only if a = a & b,\n",
    "        # or\n",
    "        # a <= b if and only if b = a | b,\n",
    "        a = self\n",
    "        return ( a == a & b ) or ( b == a | b )\n",
    "\n",
    "    def __str__(self):\n",
    "        return str(self.unwrap)\n",
    "\n",
    "    def __repr__(self):\n",
    "        return \"LatticeElement(L, %s)\" % str(self)"
   ]
  },
  {
   "cell_type": "code",
   "execution_count": null,
   "id": "9282fab5",
   "metadata": {
    "slideshow": {
     "slide_type": "slide"
    }
   },
   "outputs": [],
   "source": [
    "code = \"\"\"\n",
    "  public int foo(int x) {\n",
    "    int y = 0;\n",
    "\n",
    "    while(x >= 0) {\n",
    "        if(x % 2 == 0)\n",
    "            y += x;\n",
    "        x--;\n",
    "    }\n",
    "\n",
    "    return y;\n",
    "  }\n",
    "\"\"\""
   ]
  },
  {
   "cell_type": "code",
   "execution_count": null,
   "id": "532b70ec",
   "metadata": {
    "slideshow": {
     "slide_type": "fragment"
    }
   },
   "outputs": [],
   "source": [
    "tree = parse_method(code)\n",
    "cfg = CFGBuilder(tree).create_graph()"
   ]
  },
  {
   "cell_type": "code",
   "execution_count": null,
   "id": "81bb90f3",
   "metadata": {
    "slideshow": {
     "slide_type": "slide"
    }
   },
   "outputs": [],
   "source": [
    "def intersection(a, b):\n",
    "    return a & b \n",
    "\n",
    "def union(a, b):\n",
    "    return a | b "
   ]
  },
  {
   "cell_type": "code",
   "execution_count": null,
   "id": "31d5cd33",
   "metadata": {
    "slideshow": {
     "slide_type": "fragment"
    }
   },
   "outputs": [],
   "source": [
    "def powerset(A):\n",
    "    length = len(A)\n",
    "    return [\n",
    "        set({e for e, b in zip(A, f'{i:{length}b}') if b == '1'})\n",
    "        for i in range(2 ** length)\n",
    "    ]"
   ]
  },
  {
   "cell_type": "code",
   "execution_count": null,
   "id": "ca705a96",
   "metadata": {
    "slideshow": {
     "slide_type": "fragment"
    }
   },
   "outputs": [],
   "source": [
    "definitions = []\n",
    "for node in cfg.nodes():\n",
    "    definitions.extend([definition for definition in node.definitions()])"
   ]
  },
  {
   "cell_type": "code",
   "execution_count": null,
   "id": "72893317",
   "metadata": {
    "slideshow": {
     "slide_type": "fragment"
    }
   },
   "outputs": [],
   "source": [
    "U = list(powerset(definitions))\n",
    "join = union\n",
    "meet = intersection\n",
    "\n",
    "L = Lattice(U, join, meet)"
   ]
  },
  {
   "cell_type": "code",
   "execution_count": null,
   "id": "9a14e3e9",
   "metadata": {
    "slideshow": {
     "slide_type": "fragment"
    }
   },
   "outputs": [],
   "source": [
    "def reaching_definitions(node, in_facts):\n",
    "    gen  = set(node.definitions())\n",
    "    defined_vars = [definition.name for definition in gen]\n",
    "    kill = set([definition for definition in in_facts.unwrap if definition.name in defined_vars])\n",
    "    return in_facts.lattice.wrap(gen | (in_facts.unwrap - kill))"
   ]
  },
  {
   "cell_type": "code",
   "execution_count": null,
   "id": "537ebd21",
   "metadata": {
    "slideshow": {
     "slide_type": "slide"
    }
   },
   "outputs": [],
   "source": [
    "class DataFlowAnalysis:\n",
    "    def __init__(self, cfg, program_lattice, transfer_function, is_backward):\n",
    "        self.cfg = cfg\n",
    "        if is_backward:\n",
    "            self.cfg = cfg.reverse()\n",
    "            \n",
    "        self.transfer_function = transfer_function\n",
    "        self.lattice = program_lattice\n",
    "        \n",
    "        self.facts = {}\n",
    "        \n",
    "        for node in cfg.nodes():\n",
    "            self.facts[node] = program_lattice.bottom"
   ]
  },
  {
   "cell_type": "code",
   "execution_count": null,
   "id": "25a9e9b3",
   "metadata": {
    "slideshow": {
     "slide_type": "fragment"
    }
   },
   "outputs": [],
   "source": [
    "class DataFlowAnalysis(DataFlowAnalysis):\n",
    "    def apply(self):\n",
    "            \n",
    "        worklist = [(edge[0], edge[1]) for edge in self.cfg.edges()]\n",
    "        while worklist:\n",
    "            node1, node2 = worklist.pop()\n",
    "            \n",
    "            result = self.transfer_function(node1, self.facts[node1])\n",
    "            self.facts[node1] = result\n",
    "            if not (result <= self.facts[node2]):\n",
    "                self.facts[node2] = self.lattice.join(self.facts[node2], result)\n",
    "                for successor in self.cfg.successors(node2):\n",
    "                    worklist.append((node2, successor))"
   ]
  },
  {
   "cell_type": "markdown",
   "id": "8b118507",
   "metadata": {
    "slideshow": {
     "slide_type": "skip"
    }
   },
   "source": [
    "We can now use the reaching definitions to define our data dependence graph."
   ]
  },
  {
   "cell_type": "code",
   "execution_count": null,
   "id": "fc0c55bd",
   "metadata": {
    "slideshow": {
     "slide_type": "slide"
    }
   },
   "outputs": [],
   "source": [
    "def get_definitions(cfg):\n",
    "    definitions = []\n",
    "    for node in cfg.nodes():\n",
    "        definitions.extend([definition for definition in node.definitions()])\n",
    "    return definitions"
   ]
  },
  {
   "cell_type": "code",
   "execution_count": null,
   "id": "e2ff5377",
   "metadata": {
    "slideshow": {
     "slide_type": "fragment"
    }
   },
   "outputs": [],
   "source": [
    "def create_ddg(cfg):\n",
    "    definitions = get_definitions(cfg)\n",
    "    U = list(powerset(definitions))\n",
    "    join = union\n",
    "    meet = intersection\n",
    "\n",
    "    L = Lattice(U, join, meet)\n",
    "    analysis = DataFlowAnalysis(cfg, L, reaching_definitions, False)\n",
    "    analysis.apply()\n",
    "    \n",
    "    # Create unconnected graph\n",
    "    ddg = nx.DiGraph()\n",
    "    ddg.add_nodes_from(cfg.nodes())\n",
    "    \n",
    "    # Add dataflow edges\n",
    "    for node1, node2 in cfg.edges():\n",
    "        for use in node2.uses():\n",
    "            for definition in analysis.facts[node1].unwrap:\n",
    "                if use.name == definition.name:\n",
    "                    # add edge from the definition node to use node\n",
    "                    ddg.add_edge(definition.node, node2, label=use.name)\n",
    "\n",
    "    return ProgramGraph(ddg, cfg.start, cfg.end)"
   ]
  },
  {
   "cell_type": "code",
   "execution_count": null,
   "id": "de5dbf51",
   "metadata": {
    "slideshow": {
     "slide_type": "slide"
    }
   },
   "outputs": [],
   "source": [
    "code = \"\"\"\n",
    "  public int foo(int x) {\n",
    "    int y = 0;\n",
    "\n",
    "    while(x >= 0) {\n",
    "        if(x % 2 == 0)\n",
    "            y += x;\n",
    "        x--;\n",
    "    }\n",
    "\n",
    "    return y;\n",
    "  }\n",
    "\"\"\""
   ]
  },
  {
   "cell_type": "code",
   "execution_count": null,
   "id": "16d64886",
   "metadata": {},
   "outputs": [],
   "source": [
    "create_ddg(cfg).plot()"
   ]
  },
  {
   "cell_type": "code",
   "execution_count": null,
   "id": "f1f6e0cd",
   "metadata": {
    "scrolled": true,
    "slideshow": {
     "slide_type": "fragment"
    }
   },
   "outputs": [],
   "source": [
    "create_ddg(cfg).plot()"
   ]
  },
  {
   "cell_type": "markdown",
   "id": "9dba3745",
   "metadata": {
    "slideshow": {
     "slide_type": "slide"
    }
   },
   "source": [
    "## Program Dependence Graph"
   ]
  },
  {
   "cell_type": "markdown",
   "id": "544c4b79",
   "metadata": {
    "slideshow": {
     "slide_type": "skip"
    }
   },
   "source": [
    "The program dependence graph represents all dependencies in a program. It essentially is a combination of PDG and DDG."
   ]
  },
  {
   "cell_type": "code",
   "execution_count": null,
   "id": "5828dfbe",
   "metadata": {
    "slideshow": {
     "slide_type": "slide"
    }
   },
   "outputs": [],
   "source": [
    "def create_pdg(cfg):\n",
    "    # Create unconnected graph\n",
    "    pdg = nx.DiGraph()\n",
    "    pdg.add_nodes_from(cfg.nodes())\n",
    "\n",
    "    ddg = create_ddg(cfg)\n",
    "    cdg = control_dependence_graph(cfg)\n",
    "    pdg.add_edges_from(cdg.edges())\n",
    "    pdg.add_edges_from(ddg.edges()) # TODO: Loses edge labels\n",
    "    \n",
    "    return ProgramGraph(pdg, cfg.start, cfg.end)"
   ]
  },
  {
   "cell_type": "code",
   "execution_count": null,
   "id": "f737de00",
   "metadata": {
    "slideshow": {
     "slide_type": "slide"
    }
   },
   "outputs": [],
   "source": [
    "control_dependence_graph(cfg).plot()"
   ]
  },
  {
   "cell_type": "code",
   "execution_count": null,
   "id": "e1c4aa86",
   "metadata": {
    "slideshow": {
     "slide_type": "fragment"
    }
   },
   "outputs": [],
   "source": [
    "create_ddg(cfg).plot()"
   ]
  },
  {
   "cell_type": "code",
   "execution_count": null,
   "id": "be7b5e9e",
   "metadata": {
    "scrolled": true,
    "slideshow": {
     "slide_type": "slide"
    }
   },
   "outputs": [],
   "source": [
    "create_pdg(cfg).plot()"
   ]
  },
  {
   "cell_type": "markdown",
   "id": "721f7797",
   "metadata": {
    "slideshow": {
     "slide_type": "slide"
    }
   },
   "source": [
    "## Slicing"
   ]
  },
  {
   "cell_type": "markdown",
   "id": "ae8b5985",
   "metadata": {
    "slideshow": {
     "slide_type": "skip"
    }
   },
   "source": [
    "Slicing uses the program dependence graph to extract an executable subset of a program that only contains statements relevant for the execution of a target statement, i.e., the slice criterion. We thus need the PDG for our example program to start with, and we need to add a helper function that gives us the transitive predecessors."
   ]
  },
  {
   "cell_type": "code",
   "execution_count": null,
   "id": "dc9a3270",
   "metadata": {
    "slideshow": {
     "slide_type": "slide"
    }
   },
   "outputs": [],
   "source": [
    "class ProgramGraph(ProgramGraph):\n",
    "    def transitive_predecessors(self, node):\n",
    "        return nx.nodes(nx.dfs_tree(self.graph.reverse(), node))"
   ]
  },
  {
   "cell_type": "markdown",
   "id": "ad359ceb",
   "metadata": {
    "slideshow": {
     "slide_type": "skip"
    }
   },
   "source": [
    "A backwards slice gives us information about what set of statements could have affected a statement (or if we want to, even at the level of a specific variable at this statement). A backward slice is simply created by a backwards traversal of the PDG, starting from the slicing criterion."
   ]
  },
  {
   "cell_type": "code",
   "execution_count": null,
   "id": "c3a48511",
   "metadata": {
    "slideshow": {
     "slide_type": "fragment"
    }
   },
   "outputs": [],
   "source": [
    "def backward_slice(code, line):\n",
    "    tree = parse_method(code)\n",
    "    cfg = CFGBuilder(tree).create_graph()\n",
    "    definitions = []\n",
    "    for node in cfg.nodes():\n",
    "        definitions.extend(node.definitions())\n",
    "        \n",
    "    pdg = create_pdg(cfg)\n",
    "    target = pdg.node_for_line(line)\n",
    "    statements = set([str(n) for n in pdg.transitive_predecessors(target)])\n",
    "\n",
    "    lines = code.split('\\n')\n",
    "    result = lines[1] + \"\\n\"\n",
    "    for line_no, line in enumerate(lines):\n",
    "        if str(line_no + 1) in statements:\n",
    "            result += line + \"\\n\"\n",
    "            \n",
    "    return result"
   ]
  },
  {
   "cell_type": "code",
   "execution_count": null,
   "id": "2875c3eb",
   "metadata": {
    "slideshow": {
     "slide_type": "slide"
    }
   },
   "outputs": [],
   "source": [
    "code = \"\"\"\n",
    "public boolean testMe(int x, int y) {\n",
    "    if (x <= y) {\n",
    "        if (x == y) {\n",
    "            System.out.println(\"Some output\");\n",
    "        }\n",
    "        if (x > 0) {\n",
    "            if (y == 17) {\n",
    "               return true;\n",
    "            }\n",
    "        }\n",
    "    }\n",
    "    return false;\n",
    "}\n",
    "\"\"\""
   ]
  },
  {
   "cell_type": "code",
   "execution_count": null,
   "id": "3ebc4a68",
   "metadata": {
    "scrolled": true,
    "slideshow": {
     "slide_type": "fragment"
    }
   },
   "outputs": [],
   "source": [
    "print(backward_slice(code, 9))"
   ]
  },
  {
   "cell_type": "markdown",
   "id": "18bcb91c",
   "metadata": {
    "slideshow": {
     "slide_type": "skip"
    }
   },
   "source": [
    "Note that our slice isn't actually compilable, because we did not deal with closing braces. However, in principle we can also get these from the AST."
   ]
  },
  {
   "cell_type": "markdown",
   "id": "4a39ded0",
   "metadata": {
    "slideshow": {
     "slide_type": "skip"
    }
   },
   "source": [
    "A forward slice tells us which statements can be affected by a given statement, or variable in that statment. It is determined using a forward traversal of the PDG."
   ]
  },
  {
   "cell_type": "code",
   "execution_count": null,
   "id": "a9466fef",
   "metadata": {
    "slideshow": {
     "slide_type": "slide"
    }
   },
   "outputs": [],
   "source": [
    "def forward_slice(code, line):\n",
    "    tree = parse_method(code)\n",
    "    cfg = CFGBuilder(tree).create_graph()\n",
    "    definitions = []\n",
    "    for node in cfg.nodes():\n",
    "        definitions.extend(node.definitions())\n",
    "        \n",
    "    pdg = create_pdg(cfg)\n",
    "    target = pdg.node_for_line(line) \n",
    "    statements = set([str(n) for n in pdg.transitive_successors(target)])\n",
    "\n",
    "    lines = code.split('\\n')\n",
    "    result = lines[1] + \"\\n\"\n",
    "    for line_no, line in enumerate(lines):\n",
    "        if str(line_no + 1) in statements:\n",
    "            result += line + \"\\n\"\n",
    "            \n",
    "    return result"
   ]
  },
  {
   "cell_type": "code",
   "execution_count": null,
   "id": "9baf6d89",
   "metadata": {
    "slideshow": {
     "slide_type": "slide"
    }
   },
   "outputs": [],
   "source": [
    "code = \"\"\"\n",
    "public boolean testMe(int x, int y) {\n",
    "    if (x <= y) {\n",
    "        if (x == y) {\n",
    "            System.out.println(\"Some output\");\n",
    "        }\n",
    "        if (x > 0) {\n",
    "            if (y == 17) {\n",
    "               return true;\n",
    "            }\n",
    "        }\n",
    "    }\n",
    "    return false;\n",
    "}\n",
    "\"\"\""
   ]
  },
  {
   "cell_type": "code",
   "execution_count": null,
   "id": "3bca3390",
   "metadata": {
    "slideshow": {
     "slide_type": "fragment"
    }
   },
   "outputs": [],
   "source": [
    "print(forward_slice(code, 8))"
   ]
  },
  {
   "cell_type": "code",
   "execution_count": null,
   "id": "b128efd7",
   "metadata": {
    "slideshow": {
     "slide_type": "fragment"
    }
   },
   "outputs": [],
   "source": [
    "print(forward_slice(code, 4))"
   ]
  }
 ],
 "metadata": {
  "celltoolbar": "Slideshow",
  "kernelspec": {
   "display_name": "Python 3 (ipykernel)",
   "language": "python",
   "name": "python3"
  },
  "language_info": {
   "codemirror_mode": {
    "name": "ipython",
    "version": 3
   },
   "file_extension": ".py",
   "mimetype": "text/x-python",
   "name": "python",
   "nbconvert_exporter": "python",
   "pygments_lexer": "ipython3",
   "version": "3.10.16"
  }
 },
 "nbformat": 4,
 "nbformat_minor": 5
}
